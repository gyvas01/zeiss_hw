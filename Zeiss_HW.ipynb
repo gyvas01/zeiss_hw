{
 "cells": [
  {
   "cell_type": "code",
   "execution_count": 1,
   "id": "5ff66b4f-9f47-4c3e-b113-8dbf8e4023e4",
   "metadata": {},
   "outputs": [],
   "source": [
    "import re"
   ]
  },
  {
   "cell_type": "code",
   "execution_count": 2,
   "id": "6905c0a5-9413-4f0a-8964-4f4eaefd77a9",
   "metadata": {},
   "outputs": [],
   "source": [
    "HEAVYLIFTER_VERSION = 'v1'"
   ]
  },
  {
   "cell_type": "code",
   "execution_count": 3,
   "id": "c588a8f8-e1aa-4d95-83a8-8ac435d2ba07",
   "metadata": {},
   "outputs": [],
   "source": [
    "lines = open('instruction_set_01.txt', 'r').read().split('\\n')"
   ]
  },
  {
   "cell_type": "code",
   "execution_count": 4,
   "id": "9ef1922b-d465-4133-a952-3d8014012d3e",
   "metadata": {},
   "outputs": [],
   "source": [
    "bottom_line = [line.strip() for line in lines].index('bottom')\n",
    "num_stacks = int(lines[bottom_line - 1].strip()[-1])\n",
    "stacks = [[] for _ in range(num_stacks)]"
   ]
  },
  {
   "cell_type": "code",
   "execution_count": 5,
   "id": "6f452a8f-5e85-4895-9241-96352714e0a7",
   "metadata": {},
   "outputs": [],
   "source": [
    "def process_line(line, len):\n",
    "    for i in range(len):\n",
    "        if line[4 * i + 1] != ' ':\n",
    "            stacks[i].append(line[4 * i + 1])\n",
    "for line in lines[:bottom_line - 1][::-1]:\n",
    "    process_line(line, num_stacks)"
   ]
  },
  {
   "cell_type": "code",
   "execution_count": 6,
   "id": "ac6a811e-bbb2-4ea0-86a6-9a217dcf0ea5",
   "metadata": {},
   "outputs": [],
   "source": [
    "for line in lines[bottom_line + 2:]:\n",
    "    m = re.search(r\"move (\\d+) from (\\d+) to (\\d+)\", line)\n",
    "    move, fr, to = map(int, m.group(1, 2, 3))\n",
    "    if HEAVYLIFTER_VERSION == 'v1':\n",
    "        for i in range(move):\n",
    "            stacks[to - 1].append(stacks[fr - 1].pop())\n",
    "    elif HEAVYLIFTER_VERSION == 'v2':\n",
    "        stacks[to - 1].extend(stacks[fr - 1][0 - move:])\n",
    "        del stacks[fr - 1][0 - move:]"
   ]
  },
  {
   "cell_type": "code",
   "execution_count": 7,
   "id": "dd55a76a-08ee-4b4c-8017-b3f1b03bbac3",
   "metadata": {},
   "outputs": [
    {
     "name": "stdout",
     "output_type": "stream",
     "text": [
      "Final state of the stacks:\n",
      "['B', 'S', 'T', 'J', 'Z', 'C', 'C', 'R', 'T', 'G', 'W', 'Q', 'L', 'L', 'D', 'M', 'P', 'V', 'G', 'H', 'Z', 'S', 'W', 'Z', 'G', 'T', 'R', 'R']\n",
      "['N']\n",
      "['M', 'D', 'Z']\n",
      "['C', 'B', 'G', 'L', 'P', 'S', 'L']\n",
      "['F']\n",
      "['Z']\n",
      "['S']\n",
      "['F', 'R', 'J']\n",
      "['M', 'B', 'F', 'N', 'H', 'N', 'Z', 'R', 'M', 'V', 'H']\n"
     ]
    }
   ],
   "source": [
    "print('Final state of the stacks:')\n",
    "print(*stacks, sep='\\n')"
   ]
  },
  {
   "cell_type": "code",
   "execution_count": 8,
   "id": "944bfa90-fc5a-4ab2-b410-751a2ee3f3b9",
   "metadata": {},
   "outputs": [
    {
     "name": "stdout",
     "output_type": "stream",
     "text": [
      "Top elements of each stack: ['R', 'N', 'Z', 'L', 'F', 'Z', 'S', 'J', 'H']\n"
     ]
    }
   ],
   "source": [
    "print(f'Top elements of each stack: {[s[-1] if len(s) > 0 else \"<empty stack>\" for s in stacks]}')"
   ]
  },
  {
   "cell_type": "code",
   "execution_count": null,
   "id": "b03f2b75-4c85-4c9d-97ba-f73967f54464",
   "metadata": {},
   "outputs": [],
   "source": []
  }
 ],
 "metadata": {
  "kernelspec": {
   "display_name": "Python 3 (ipykernel)",
   "language": "python",
   "name": "python3"
  },
  "language_info": {
   "codemirror_mode": {
    "name": "ipython",
    "version": 3
   },
   "file_extension": ".py",
   "mimetype": "text/x-python",
   "name": "python",
   "nbconvert_exporter": "python",
   "pygments_lexer": "ipython3",
   "version": "3.12.7"
  }
 },
 "nbformat": 4,
 "nbformat_minor": 5
}
