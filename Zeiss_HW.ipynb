{
 "cells": [
  {
   "cell_type": "code",
   "execution_count": 1,
   "id": "a96bc8e0-dc79-4ed5-b9c7-9ab3fcad2d23",
   "metadata": {},
   "outputs": [
    {
     "name": "stdout",
     "output_type": "stream",
     "text": [
      "RNZLFZSJH\n"
     ]
    }
   ],
   "source": [
    "import re\n",
    "\n",
    "HEAVYLIFTER_VERSION = 'v1'\n",
    "\n",
    "lines = open('instruction_set_01.txt', 'r').read().split('\\n')\n",
    "\n",
    "bottom_line = [line.strip() for line in lines].index('bottom')\n",
    "num_stacks = int(lines[bottom_line - 1].strip()[-1])\n",
    "stacks = [[] for _ in range(num_stacks)]\n",
    "\n",
    "def process_line(line, len):\n",
    "    for i in range(len):\n",
    "        if line[4 * i + 1] != ' ':\n",
    "            stacks[i].append(line[4 * i + 1])\n",
    "\n",
    "for line in lines[:bottom_line - 1][::-1]:\n",
    "    process_line(line, num_stacks)\n",
    "\n",
    "for line in lines[bottom_line + 2:]:\n",
    "    m = re.search(r\"move (\\d+) from (\\d+) to (\\d+)\", line)\n",
    "    move_cnt, fr, to = map(int, m.group(1, 2, 3))\n",
    "    if HEAVYLIFTER_VERSION == 'v1':\n",
    "        for i in range(move_cnt):\n",
    "            stacks[to - 1].append(stacks[fr - 1].pop())\n",
    "    elif HEAVYLIFTER_VERSION == 'v2':\n",
    "        stacks[to - 1].extend(stacks[fr - 1][0 - move_cnt:])\n",
    "        del stacks[fr - 1][0 - move_cnt:]\n",
    "\n",
    "# print('Final state of the stacks:')\n",
    "# print(*stacks, sep='\\n')\n",
    "# print()\n",
    "# print(f'Top elements of each stack: {[s[-1] if len(s) > 0 else \"<empty stack>\" for s in stacks]}')\n",
    "print(''.join([s[-1] for s in stacks]))"
   ]
  },
  {
   "cell_type": "code",
   "execution_count": null,
   "id": "b03f2b75-4c85-4c9d-97ba-f73967f54464",
   "metadata": {},
   "outputs": [],
   "source": []
  }
 ],
 "metadata": {
  "kernelspec": {
   "display_name": "Python 3 (ipykernel)",
   "language": "python",
   "name": "python3"
  },
  "language_info": {
   "codemirror_mode": {
    "name": "ipython",
    "version": 3
   },
   "file_extension": ".py",
   "mimetype": "text/x-python",
   "name": "python",
   "nbconvert_exporter": "python",
   "pygments_lexer": "ipython3",
   "version": "3.12.7"
  }
 },
 "nbformat": 4,
 "nbformat_minor": 5
}
